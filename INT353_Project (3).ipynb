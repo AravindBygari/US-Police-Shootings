{
 "cells": [
  {
   "cell_type": "markdown",
   "id": "2f231e29",
   "metadata": {},
   "source": [
    "-                                                                                                  Name     : Bygari Aravind\n",
    "-                                                                                                  Rg. No.  : 12013514\n",
    "-                                                                                                  Roll No. : 13\n",
    "- Section  : K20MD"
   ]
  },
  {
   "cell_type": "markdown",
   "id": "12d570f2",
   "metadata": {},
   "source": [
    "### ABOUT THE DATASET & CONTEXT"
   ]
  },
  {
   "cell_type": "markdown",
   "id": "4e07a2d6",
   "metadata": {},
   "source": [
    "### Context\n",
    "\n",
    "- In the recent killings, a hot topic came into being, \"Racism\". So, I chose to gather some data to take out some insights and analyze the story around racism in America.\n",
    "- I downloaded the raw data from kaggle and prepared it for visualization while correcting values, handling missing content, normalization and categorization.\n",
    "\n",
    "### Content\n",
    "\n",
    "- This dataset has been prepared by The Washington Post (they keep updating it on runtime) with every fatal shooting in the United States by a police officer in the line of duty since Jan 1, 2015.\n",
    "\n",
    "- It contains basic data about people like their name, age, gender and race. Along with it, is the shooting/killing information, like date of event, where it happened? how they were shot? did they attack? Were they holding weapons? Did they show any mental illness? Was the policeman wearing a camera/was the incident recorded? Did the suspect flee? Apart from that, a category column holds type of weapon used by the suspect.\n",
    "\n",
    "### Approach\n",
    "- My approach for this project is firstly i will be cleaning data like removing null values, outliers, changing data types and then i will import all the usefull libraries like numpy, pandas, matplotlib because these are the main libraries for any dataset to analize by plotting the graphs like bargraph, histogram, piechart ect."
   ]
  },
  {
   "cell_type": "markdown",
   "id": "b9fcea20",
   "metadata": {},
   "source": [
    "#### Importing Libraries"
   ]
  },
  {
   "cell_type": "code",
   "execution_count": 1,
   "id": "66c7f0a3",
   "metadata": {},
   "outputs": [],
   "source": [
    "import pandas as pd\n",
    "import numpy as np\n",
    "import seaborn as sns\n",
    "import matplotlib.pyplot as plt"
   ]
  },
  {
   "cell_type": "code",
   "execution_count": 2,
   "id": "3eb7ecbd",
   "metadata": {},
   "outputs": [
    {
     "data": {
      "text/plain": [
       "'C:\\\\Users\\\\DELL'"
      ]
     },
     "execution_count": 2,
     "metadata": {},
     "output_type": "execute_result"
    }
   ],
   "source": [
    "%pwd"
   ]
  },
  {
   "cell_type": "markdown",
   "id": "95a1fb47",
   "metadata": {},
   "source": [
    "#### Reading CSV File"
   ]
  },
  {
   "cell_type": "code",
   "execution_count": 3,
   "id": "786653b3",
   "metadata": {},
   "outputs": [
    {
     "data": {
      "text/html": [
       "<div>\n",
       "<style scoped>\n",
       "    .dataframe tbody tr th:only-of-type {\n",
       "        vertical-align: middle;\n",
       "    }\n",
       "\n",
       "    .dataframe tbody tr th {\n",
       "        vertical-align: top;\n",
       "    }\n",
       "\n",
       "    .dataframe thead th {\n",
       "        text-align: right;\n",
       "    }\n",
       "</style>\n",
       "<table border=\"1\" class=\"dataframe\">\n",
       "  <thead>\n",
       "    <tr style=\"text-align: right;\">\n",
       "      <th></th>\n",
       "      <th>id</th>\n",
       "      <th>name</th>\n",
       "      <th>date</th>\n",
       "      <th>manner_of_death</th>\n",
       "      <th>armed</th>\n",
       "      <th>age</th>\n",
       "      <th>gender</th>\n",
       "      <th>race</th>\n",
       "      <th>city</th>\n",
       "      <th>state</th>\n",
       "      <th>signs_of_mental_illness</th>\n",
       "      <th>threat_level</th>\n",
       "      <th>flee</th>\n",
       "      <th>body_camera</th>\n",
       "      <th>arms_category</th>\n",
       "    </tr>\n",
       "  </thead>\n",
       "  <tbody>\n",
       "    <tr>\n",
       "      <th>0</th>\n",
       "      <td>3</td>\n",
       "      <td>Tim Elliot</td>\n",
       "      <td>2015-01-02</td>\n",
       "      <td>shot</td>\n",
       "      <td>gun</td>\n",
       "      <td>53.0</td>\n",
       "      <td>M</td>\n",
       "      <td>Asian</td>\n",
       "      <td>Shelton</td>\n",
       "      <td>WA</td>\n",
       "      <td>True</td>\n",
       "      <td>attack</td>\n",
       "      <td>Not fleeing</td>\n",
       "      <td>False</td>\n",
       "      <td>Guns</td>\n",
       "    </tr>\n",
       "    <tr>\n",
       "      <th>1</th>\n",
       "      <td>4</td>\n",
       "      <td>Lewis Lee Lembke</td>\n",
       "      <td>2015-01-02</td>\n",
       "      <td>shot</td>\n",
       "      <td>gun</td>\n",
       "      <td>47.0</td>\n",
       "      <td>M</td>\n",
       "      <td>White</td>\n",
       "      <td>Aloha</td>\n",
       "      <td>OR</td>\n",
       "      <td>False</td>\n",
       "      <td>attack</td>\n",
       "      <td>Not fleeing</td>\n",
       "      <td>False</td>\n",
       "      <td>Guns</td>\n",
       "    </tr>\n",
       "    <tr>\n",
       "      <th>2</th>\n",
       "      <td>5</td>\n",
       "      <td>John Paul Quintero</td>\n",
       "      <td>2015-01-03</td>\n",
       "      <td>shot and Tasered</td>\n",
       "      <td>unarmed</td>\n",
       "      <td>23.0</td>\n",
       "      <td>M</td>\n",
       "      <td>Hispanic</td>\n",
       "      <td>Wichita</td>\n",
       "      <td>KS</td>\n",
       "      <td>False</td>\n",
       "      <td>other</td>\n",
       "      <td>Not fleeing</td>\n",
       "      <td>False</td>\n",
       "      <td>Unarmed</td>\n",
       "    </tr>\n",
       "    <tr>\n",
       "      <th>3</th>\n",
       "      <td>8</td>\n",
       "      <td>Matthew Hoffman</td>\n",
       "      <td>2015-01-04</td>\n",
       "      <td>shot</td>\n",
       "      <td>toy weapon</td>\n",
       "      <td>32.0</td>\n",
       "      <td>M</td>\n",
       "      <td>White</td>\n",
       "      <td>San Francisco</td>\n",
       "      <td>CA</td>\n",
       "      <td>True</td>\n",
       "      <td>attack</td>\n",
       "      <td>Not fleeing</td>\n",
       "      <td>False</td>\n",
       "      <td>Other unusual objects</td>\n",
       "    </tr>\n",
       "    <tr>\n",
       "      <th>4</th>\n",
       "      <td>9</td>\n",
       "      <td>Michael Rodriguez</td>\n",
       "      <td>2015-01-04</td>\n",
       "      <td>shot</td>\n",
       "      <td>nail gun</td>\n",
       "      <td>39.0</td>\n",
       "      <td>M</td>\n",
       "      <td>Hispanic</td>\n",
       "      <td>Evans</td>\n",
       "      <td>CO</td>\n",
       "      <td>False</td>\n",
       "      <td>attack</td>\n",
       "      <td>Not fleeing</td>\n",
       "      <td>False</td>\n",
       "      <td>Piercing objects</td>\n",
       "    </tr>\n",
       "  </tbody>\n",
       "</table>\n",
       "</div>"
      ],
      "text/plain": [
       "   id                name        date   manner_of_death       armed   age  \\\n",
       "0   3          Tim Elliot  2015-01-02              shot         gun  53.0   \n",
       "1   4    Lewis Lee Lembke  2015-01-02              shot         gun  47.0   \n",
       "2   5  John Paul Quintero  2015-01-03  shot and Tasered     unarmed  23.0   \n",
       "3   8     Matthew Hoffman  2015-01-04              shot  toy weapon  32.0   \n",
       "4   9   Michael Rodriguez  2015-01-04              shot    nail gun  39.0   \n",
       "\n",
       "  gender      race           city state  signs_of_mental_illness threat_level  \\\n",
       "0      M     Asian        Shelton    WA                     True       attack   \n",
       "1      M     White          Aloha    OR                    False       attack   \n",
       "2      M  Hispanic        Wichita    KS                    False        other   \n",
       "3      M     White  San Francisco    CA                     True       attack   \n",
       "4      M  Hispanic          Evans    CO                    False       attack   \n",
       "\n",
       "          flee  body_camera          arms_category  \n",
       "0  Not fleeing        False                   Guns  \n",
       "1  Not fleeing        False                   Guns  \n",
       "2  Not fleeing        False                Unarmed  \n",
       "3  Not fleeing        False  Other unusual objects  \n",
       "4  Not fleeing        False       Piercing objects  "
      ]
     },
     "execution_count": 3,
     "metadata": {},
     "output_type": "execute_result"
    }
   ],
   "source": [
    "df=pd.read_csv(r\"C:\\Users\\DELL\\Downloads\\shootings.csv\")\n",
    "df.head()"
   ]
  },
  {
   "cell_type": "code",
   "execution_count": 28,
   "id": "e7f4f91d",
   "metadata": {},
   "outputs": [
    {
     "data": {
      "text/plain": [
       "(4895, 15)"
      ]
     },
     "execution_count": 28,
     "metadata": {},
     "output_type": "execute_result"
    }
   ],
   "source": [
    "df.shape"
   ]
  },
  {
   "cell_type": "markdown",
   "id": "3fd67570",
   "metadata": {},
   "source": [
    "#### Statistical Information"
   ]
  },
  {
   "cell_type": "code",
   "execution_count": 4,
   "id": "0a27217d",
   "metadata": {},
   "outputs": [
    {
     "data": {
      "text/html": [
       "<div>\n",
       "<style scoped>\n",
       "    .dataframe tbody tr th:only-of-type {\n",
       "        vertical-align: middle;\n",
       "    }\n",
       "\n",
       "    .dataframe tbody tr th {\n",
       "        vertical-align: top;\n",
       "    }\n",
       "\n",
       "    .dataframe thead th {\n",
       "        text-align: right;\n",
       "    }\n",
       "</style>\n",
       "<table border=\"1\" class=\"dataframe\">\n",
       "  <thead>\n",
       "    <tr style=\"text-align: right;\">\n",
       "      <th></th>\n",
       "      <th>id</th>\n",
       "      <th>age</th>\n",
       "    </tr>\n",
       "  </thead>\n",
       "  <tbody>\n",
       "    <tr>\n",
       "      <th>count</th>\n",
       "      <td>4895.000000</td>\n",
       "      <td>4895.000000</td>\n",
       "    </tr>\n",
       "    <tr>\n",
       "      <th>mean</th>\n",
       "      <td>2902.148519</td>\n",
       "      <td>36.549750</td>\n",
       "    </tr>\n",
       "    <tr>\n",
       "      <th>std</th>\n",
       "      <td>1683.467910</td>\n",
       "      <td>12.694348</td>\n",
       "    </tr>\n",
       "    <tr>\n",
       "      <th>min</th>\n",
       "      <td>3.000000</td>\n",
       "      <td>6.000000</td>\n",
       "    </tr>\n",
       "    <tr>\n",
       "      <th>25%</th>\n",
       "      <td>1441.500000</td>\n",
       "      <td>27.000000</td>\n",
       "    </tr>\n",
       "    <tr>\n",
       "      <th>50%</th>\n",
       "      <td>2847.000000</td>\n",
       "      <td>35.000000</td>\n",
       "    </tr>\n",
       "    <tr>\n",
       "      <th>75%</th>\n",
       "      <td>4352.500000</td>\n",
       "      <td>45.000000</td>\n",
       "    </tr>\n",
       "    <tr>\n",
       "      <th>max</th>\n",
       "      <td>5925.000000</td>\n",
       "      <td>91.000000</td>\n",
       "    </tr>\n",
       "  </tbody>\n",
       "</table>\n",
       "</div>"
      ],
      "text/plain": [
       "                id          age\n",
       "count  4895.000000  4895.000000\n",
       "mean   2902.148519    36.549750\n",
       "std    1683.467910    12.694348\n",
       "min       3.000000     6.000000\n",
       "25%    1441.500000    27.000000\n",
       "50%    2847.000000    35.000000\n",
       "75%    4352.500000    45.000000\n",
       "max    5925.000000    91.000000"
      ]
     },
     "execution_count": 4,
     "metadata": {},
     "output_type": "execute_result"
    }
   ],
   "source": [
    "df.describe()"
   ]
  },
  {
   "cell_type": "markdown",
   "id": "d831b625",
   "metadata": {},
   "source": [
    "#### Here, id and age columns are only numeric type"
   ]
  },
  {
   "cell_type": "markdown",
   "id": "807d3d11",
   "metadata": {},
   "source": [
    "### Data Cleaning"
   ]
  },
  {
   "cell_type": "code",
   "execution_count": 5,
   "id": "1d7411fd",
   "metadata": {},
   "outputs": [
    {
     "data": {
      "text/plain": [
       "id                         0\n",
       "name                       0\n",
       "date                       0\n",
       "manner_of_death            0\n",
       "armed                      0\n",
       "age                        0\n",
       "gender                     0\n",
       "race                       0\n",
       "city                       0\n",
       "state                      0\n",
       "signs_of_mental_illness    0\n",
       "threat_level               0\n",
       "flee                       0\n",
       "body_camera                0\n",
       "arms_category              0\n",
       "dtype: int64"
      ]
     },
     "execution_count": 5,
     "metadata": {},
     "output_type": "execute_result"
    }
   ],
   "source": [
    "df.isnull().sum()"
   ]
  },
  {
   "cell_type": "markdown",
   "id": "09fb942c",
   "metadata": {},
   "source": [
    "#### There are multiple types of data types available in the data set. some of them are numerical type and some of categorical type. You are required to get the idea about the data types after reading the data frame."
   ]
  },
  {
   "cell_type": "code",
   "execution_count": 6,
   "id": "00debd1a",
   "metadata": {},
   "outputs": [
    {
     "name": "stdout",
     "output_type": "stream",
     "text": [
      "<class 'pandas.core.frame.DataFrame'>\n",
      "RangeIndex: 4895 entries, 0 to 4894\n",
      "Data columns (total 15 columns):\n",
      " #   Column                   Non-Null Count  Dtype  \n",
      "---  ------                   --------------  -----  \n",
      " 0   id                       4895 non-null   int64  \n",
      " 1   name                     4895 non-null   object \n",
      " 2   date                     4895 non-null   object \n",
      " 3   manner_of_death          4895 non-null   object \n",
      " 4   armed                    4895 non-null   object \n",
      " 5   age                      4895 non-null   float64\n",
      " 6   gender                   4895 non-null   object \n",
      " 7   race                     4895 non-null   object \n",
      " 8   city                     4895 non-null   object \n",
      " 9   state                    4895 non-null   object \n",
      " 10  signs_of_mental_illness  4895 non-null   bool   \n",
      " 11  threat_level             4895 non-null   object \n",
      " 12  flee                     4895 non-null   object \n",
      " 13  body_camera              4895 non-null   bool   \n",
      " 14  arms_category            4895 non-null   object \n",
      "dtypes: bool(2), float64(1), int64(1), object(11)\n",
      "memory usage: 506.8+ KB\n"
     ]
    }
   ],
   "source": [
    "df.info()"
   ]
  },
  {
   "cell_type": "code",
   "execution_count": 7,
   "id": "72931a6c",
   "metadata": {},
   "outputs": [
    {
     "data": {
      "text/plain": [
       "0    2015\n",
       "1    2015\n",
       "Name: year, dtype: object"
      ]
     },
     "execution_count": 7,
     "metadata": {},
     "output_type": "execute_result"
    }
   ],
   "source": [
    "df['year']=df['date'].apply(lambda x: x.split('-')[0])\n",
    "df.year.head(2)"
   ]
  },
  {
   "cell_type": "markdown",
   "id": "4e919dd6",
   "metadata": {},
   "source": [
    "#### Converting Data Types"
   ]
  },
  {
   "cell_type": "code",
   "execution_count": 8,
   "id": "ff55d4ad",
   "metadata": {},
   "outputs": [
    {
     "data": {
      "text/plain": [
       "id                         0\n",
       "name                       0\n",
       "date                       0\n",
       "manner_of_death            0\n",
       "armed                      0\n",
       "age                        0\n",
       "gender                     0\n",
       "race                       0\n",
       "city                       0\n",
       "state                      0\n",
       "signs_of_mental_illness    0\n",
       "threat_level               0\n",
       "flee                       0\n",
       "body_camera                0\n",
       "arms_category              0\n",
       "dtype: int64"
      ]
     },
     "execution_count": 8,
     "metadata": {},
     "output_type": "execute_result"
    }
   ],
   "source": [
    "#if coulumn contains any null values then sometimes we may not able to change data type of it. so, for it firstly we have to check for null values if your data set contains any.\n",
    "df.isnull().sum()"
   ]
  },
  {
   "cell_type": "markdown",
   "id": "afb27670",
   "metadata": {},
   "source": [
    "#### Here, if we observe dataframe carefully only two columns datatypes i.e \"date\" and \"age\" have to be changed from \"object\" type to \"datetime\" type and \"float\" to \"int\" respectively and as of my knowledge this can be done in two ways \n",
    "####                                                                  1. .astype('datetime64[ns]') / .astype('int')\n",
    "####                                                                  2. pd.to_datetime() / pd.to_numeric()                                    "
   ]
  },
  {
   "cell_type": "code",
   "execution_count": 8,
   "id": "977b1233",
   "metadata": {},
   "outputs": [
    {
     "data": {
      "text/plain": [
       "0   2015-01-02\n",
       "1   2015-01-02\n",
       "Name: date, dtype: datetime64[ns]"
      ]
     },
     "execution_count": 8,
     "metadata": {},
     "output_type": "execute_result"
    }
   ],
   "source": [
    "df['date']=pd.to_datetime(df['date'])\n",
    "df['date'].head(2)"
   ]
  },
  {
   "cell_type": "code",
   "execution_count": null,
   "id": "7b47f421",
   "metadata": {},
   "outputs": [],
   "source": [
    "df['dates'] = pd.to_datetime(df['dates'], format='%y%m%d') #we use this syntex if we have to change both datatype and format but if we see in dataframe, format of date column is already in std fromat."
   ]
  },
  {
   "cell_type": "code",
   "execution_count": 9,
   "id": "cfdba487",
   "metadata": {},
   "outputs": [
    {
     "data": {
      "text/plain": [
       "dtype('int32')"
      ]
     },
     "execution_count": 9,
     "metadata": {},
     "output_type": "execute_result"
    }
   ],
   "source": [
    "df['age']=df['age'].astype(int,errors=\"ignore\")  #However, if the data type is not suitable for the values of the column, by default this method will throw a ValueError thats why we use errors argument. \n",
    "df['age'].dtype"
   ]
  },
  {
   "cell_type": "code",
   "execution_count": 10,
   "id": "bd950bf8",
   "metadata": {},
   "outputs": [
    {
     "data": {
      "text/plain": [
       "dtype('int32')"
      ]
     },
     "execution_count": 10,
     "metadata": {},
     "output_type": "execute_result"
    }
   ],
   "source": [
    "df['year']=df['year'].astype('int')\n",
    "df['year'].dtype"
   ]
  },
  {
   "cell_type": "markdown",
   "id": "2ec93f03",
   "metadata": {},
   "source": [
    "### Handling Outliers"
   ]
  },
  {
   "cell_type": "markdown",
   "id": "4b8db31a",
   "metadata": {},
   "source": [
    "#### As we all know that we can only find outliers for numerical data type columns and in this dataframe only two columns i.e \"id\" and \"age\"  fall under that category but unfortunately there is no need to calculate outliers for id column as people do have ids as any value in infinity range so we have to perform \"handling outliers\" operation only on 'age' column."
   ]
  },
  {
   "cell_type": "markdown",
   "id": "a84aaf32",
   "metadata": {},
   "source": [
    "#### Age Variable "
   ]
  },
  {
   "cell_type": "code",
   "execution_count": 12,
   "id": "d7f449a1",
   "metadata": {},
   "outputs": [
    {
     "name": "stdout",
     "output_type": "stream",
     "text": [
      "<class 'pandas.core.frame.DataFrame'>\n",
      "RangeIndex: 4895 entries, 0 to 4894\n",
      "Data columns (total 16 columns):\n",
      " #   Column                   Non-Null Count  Dtype         \n",
      "---  ------                   --------------  -----         \n",
      " 0   id                       4895 non-null   int64         \n",
      " 1   name                     4895 non-null   object        \n",
      " 2   date                     4895 non-null   datetime64[ns]\n",
      " 3   manner_of_death          4895 non-null   object        \n",
      " 4   armed                    4895 non-null   object        \n",
      " 5   age                      4895 non-null   int32         \n",
      " 6   gender                   4895 non-null   object        \n",
      " 7   race                     4895 non-null   object        \n",
      " 8   city                     4895 non-null   object        \n",
      " 9   state                    4895 non-null   object        \n",
      " 10  signs_of_mental_illness  4895 non-null   bool          \n",
      " 11  threat_level             4895 non-null   object        \n",
      " 12  flee                     4895 non-null   object        \n",
      " 13  body_camera              4895 non-null   bool          \n",
      " 14  arms_category            4895 non-null   object        \n",
      " 15  year                     4895 non-null   int32         \n",
      "dtypes: bool(2), datetime64[ns](1), int32(2), int64(1), object(10)\n",
      "memory usage: 506.8+ KB\n"
     ]
    }
   ],
   "source": [
    "df.info()"
   ]
  },
  {
   "cell_type": "code",
   "execution_count": 11,
   "id": "2aebd8a3",
   "metadata": {
    "scrolled": true
   },
   "outputs": [
    {
     "data": {
      "text/plain": [
       "count    4895.000000\n",
       "mean       36.547702\n",
       "std        12.694266\n",
       "min         6.000000\n",
       "25%        27.000000\n",
       "50%        35.000000\n",
       "75%        45.000000\n",
       "max        91.000000\n",
       "Name: age, dtype: float64"
      ]
     },
     "execution_count": 11,
     "metadata": {},
     "output_type": "execute_result"
    }
   ],
   "source": [
    "df.age.describe()"
   ]
  },
  {
   "cell_type": "code",
   "execution_count": 13,
   "id": "0b44f6f5",
   "metadata": {
    "scrolled": false
   },
   "outputs": [
    {
     "data": {
      "image/png": "[encoded data removed]",
      "text/plain": [
       "<Figure size 432x288 with 1 Axes>"
      ]
     },
     "metadata": {
      "needs_background": "light"
     },
     "output_type": "display_data"
    }
   ],
   "source": [
    "df.age.plot.hist()\n",
    "plt.show()"
   ]
  },
  {
   "cell_type": "code",
   "execution_count": 14,
   "id": "79c0a4bc",
   "metadata": {},
   "outputs": [
    {
     "data": {
      "image/png": "[encoded data removed]",
      "text/plain": [
       "<Figure size 576x144 with 1 Axes>"
      ]
     },
     "metadata": {
      "needs_background": "light"
     },
     "output_type": "display_data"
    }
   ],
   "source": [
    "plt.figure(figsize=[8,2])\n",
    "df.age.plot.box()\n",
    "plt.show()"
   ]
  },
  {
   "cell_type": "code",
   "execution_count": 17,
   "id": "cc72cab1",
   "metadata": {},
   "outputs": [
    {
     "data": {
      "text/plain": [
       "0.50    35.0\n",
       "0.70    42.0\n",
       "0.95    60.0\n",
       "0.99    71.0\n",
       "1.00    91.0\n",
       "Name: age, dtype: float64"
      ]
     },
     "execution_count": 17,
     "metadata": {},
     "output_type": "execute_result"
    }
   ],
   "source": [
    "df.age.quantile([0.5,0.7,0.95,0.99,1])"
   ]
  },
  {
   "cell_type": "markdown",
   "id": "47f14108",
   "metadata": {},
   "source": [
    "#### If we see here the maximum value of \"age\" column is 91 which is acceptable that means people with age 91 is possible and we don't have to remove/bin/cut it."
   ]
  },
  {
   "cell_type": "code",
   "execution_count": null,
   "id": "a50ddef2",
   "metadata": {},
   "outputs": [],
   "source": []
  },
  {
   "cell_type": "markdown",
   "id": "419cd9ce",
   "metadata": {},
   "source": [
    "### UNIVARIATE ANALYSIS"
   ]
  },
  {
   "cell_type": "markdown",
   "id": "3ca90e1e",
   "metadata": {},
   "source": [
    "### Numerical Univariate Analysis"
   ]
  },
  {
   "cell_type": "code",
   "execution_count": 105,
   "id": "724e1375",
   "metadata": {},
   "outputs": [
    {
     "data": {
      "text/plain": [
       "count    4895.000000\n",
       "mean       36.547702\n",
       "std        12.694266\n",
       "min         6.000000\n",
       "25%        27.000000\n",
       "50%        35.000000\n",
       "75%        45.000000\n",
       "max        91.000000\n",
       "Name: age, dtype: float64"
      ]
     },
     "execution_count": 105,
     "metadata": {},
     "output_type": "execute_result"
    }
   ],
   "source": [
    "df.age.describe()"
   ]
  },
  {
   "cell_type": "markdown",
   "id": "d7de21e2",
   "metadata": {},
   "source": [
    "#### The mean age of the shooting victims is around 36-37 years.The minimum age recorded for a victim is 6 years which is very surprising at the least. No explanation can be provided for the killing of a child who is not even over 10."
   ]
  },
  {
   "cell_type": "code",
   "execution_count": 106,
   "id": "e162576e",
   "metadata": {},
   "outputs": [
    {
     "data": {
      "text/html": [
       "<div>\n",
       "<style scoped>\n",
       "    .dataframe tbody tr th:only-of-type {\n",
       "        vertical-align: middle;\n",
       "    }\n",
       "\n",
       "    .dataframe tbody tr th {\n",
       "        vertical-align: top;\n",
       "    }\n",
       "\n",
       "    .dataframe thead th {\n",
       "        text-align: right;\n",
       "    }\n",
       "</style>\n",
       "<table border=\"1\" class=\"dataframe\">\n",
       "  <thead>\n",
       "    <tr style=\"text-align: right;\">\n",
       "      <th></th>\n",
       "      <th>id</th>\n",
       "      <th>name</th>\n",
       "      <th>date</th>\n",
       "      <th>manner_of_death</th>\n",
       "      <th>armed</th>\n",
       "      <th>age</th>\n",
       "      <th>gender</th>\n",
       "      <th>race</th>\n",
       "      <th>city</th>\n",
       "      <th>state</th>\n",
       "      <th>signs_of_mental_illness</th>\n",
       "      <th>threat_level</th>\n",
       "      <th>flee</th>\n",
       "      <th>body_camera</th>\n",
       "      <th>arms_category</th>\n",
       "      <th>year</th>\n",
       "    </tr>\n",
       "  </thead>\n",
       "  <tbody>\n",
       "    <tr>\n",
       "      <th>811</th>\n",
       "      <td>980</td>\n",
       "      <td>Jeremy Mardis</td>\n",
       "      <td>2015-11-03</td>\n",
       "      <td>shot</td>\n",
       "      <td>unarmed</td>\n",
       "      <td>6</td>\n",
       "      <td>M</td>\n",
       "      <td>White</td>\n",
       "      <td>Marksville</td>\n",
       "      <td>LA</td>\n",
       "      <td>False</td>\n",
       "      <td>other</td>\n",
       "      <td>Car</td>\n",
       "      <td>True</td>\n",
       "      <td>Unarmed</td>\n",
       "      <td>2015</td>\n",
       "    </tr>\n",
       "    <tr>\n",
       "      <th>2761</th>\n",
       "      <td>3229</td>\n",
       "      <td>Kameron Prescott</td>\n",
       "      <td>2017-12-21</td>\n",
       "      <td>shot</td>\n",
       "      <td>unarmed</td>\n",
       "      <td>6</td>\n",
       "      <td>M</td>\n",
       "      <td>White</td>\n",
       "      <td>Schertz</td>\n",
       "      <td>TX</td>\n",
       "      <td>False</td>\n",
       "      <td>other</td>\n",
       "      <td>Not fleeing</td>\n",
       "      <td>False</td>\n",
       "      <td>Unarmed</td>\n",
       "      <td>2017</td>\n",
       "    </tr>\n",
       "  </tbody>\n",
       "</table>\n",
       "</div>"
      ],
      "text/plain": [
       "        id              name       date manner_of_death    armed  age gender  \\\n",
       "811    980     Jeremy Mardis 2015-11-03            shot  unarmed    6      M   \n",
       "2761  3229  Kameron Prescott 2017-12-21            shot  unarmed    6      M   \n",
       "\n",
       "       race        city state  signs_of_mental_illness threat_level  \\\n",
       "811   White  Marksville    LA                    False        other   \n",
       "2761  White     Schertz    TX                    False        other   \n",
       "\n",
       "             flee  body_camera arms_category  year  \n",
       "811           Car         True       Unarmed  2015  \n",
       "2761  Not fleeing        False       Unarmed  2017  "
      ]
     },
     "execution_count": 106,
     "metadata": {},
     "output_type": "execute_result"
    }
   ],
   "source": [
    "df.loc[df.age==6]"
   ]
  },
  {
   "cell_type": "markdown",
   "id": "ea2d4527",
   "metadata": {},
   "source": [
    "#### There are two cases of the victim being 6 years old. The more surprising thing is both of the kids were unarmed so I don't see the logic behind shooting them. These are some highly disturbing findings."
   ]
  },
  {
   "cell_type": "code",
   "execution_count": 125,
   "id": "94e1188e",
   "metadata": {},
   "outputs": [
    {
     "data": {
      "image/png": "[encoded data removed]",
      "text/plain": [
       "<Figure size 432x288 with 1 Axes>"
      ]
     },
     "metadata": {},
     "output_type": "display_data"
    }
   ],
   "source": [
    "df.age.plot.hist(color='salmon')\n",
    "sns.set_theme(style='darkgrid')\n",
    "plt.title(\"Distribution Of Age\", fontdict={'fontweight':'bold', 'fontsize':18})\n",
    "plt.xlabel(\"Range of age\", fontweight='bold')\n",
    "plt.ylabel(\"Count\", fontweight='bold')\n",
    "plt.show()"
   ]
  },
  {
   "cell_type": "markdown",
   "id": "289c486f",
   "metadata": {},
   "source": [
    "#### As we can see, most individuals are between 25-40 years old with an average one being 36 Years old."
   ]
  },
  {
   "cell_type": "code",
   "execution_count": 129,
   "id": "67c434bd",
   "metadata": {},
   "outputs": [
    {
     "data": {
      "text/plain": [
       "2015    965\n",
       "2017    906\n",
       "2016    904\n",
       "2018    888\n",
       "2019    858\n",
       "2020    374\n",
       "Name: year, dtype: int64"
      ]
     },
     "execution_count": 129,
     "metadata": {},
     "output_type": "execute_result"
    }
   ],
   "source": [
    "df.year.value_counts()"
   ]
  },
  {
   "cell_type": "code",
   "execution_count": 141,
   "id": "b43a53f0",
   "metadata": {},
   "outputs": [
    {
     "data": {
      "text/plain": [
       "0    2015\n",
       "1    2015\n",
       "Name: year, dtype: int32"
      ]
     },
     "execution_count": 141,
     "metadata": {},
     "output_type": "execute_result"
    }
   ],
   "source": [
    "df['year']=df['year'].astype(int)\n",
    "df.year.head(2)"
   ]
  },
  {
   "cell_type": "code",
   "execution_count": 16,
   "id": "008993f1",
   "metadata": {},
   "outputs": [
    {
     "name": "stderr",
     "output_type": "stream",
     "text": [
      "C:\\Users\\DELL\\anaconda3\\lib\\site-packages\\seaborn\\_decorators.py:36: FutureWarning: Pass the following variables as keyword args: x, y. From version 0.12, the only valid positional argument will be `data`, and passing other arguments without an explicit keyword will result in an error or misinterpretation.\n",
      "  warnings.warn(\n"
     ]
    },
    {
     "data": {
      "image/png": "[encoded data removed]",
      "text/plain": [
       "<Figure size 576x360 with 1 Axes>"
      ]
     },
     "metadata": {},
     "output_type": "display_data"
    }
   ],
   "source": [
    "data = df.groupby(['year'])['name'].count().reset_index()\n",
    "data.columns = ['Year', 'Count']\n",
    "plt.figure(figsize = (8,5))\n",
    "sns.set_theme(style=\"darkgrid\")\n",
    "sns.lineplot(data['Year'] , data['Count'])\n",
    "plt.title('Number of police shootings over the years 2015-2020' , fontdict={ 'fontweight' : 'bold', 'fontsize' : 18 })\n",
    "plt.show()"
   ]
  },
  {
   "cell_type": "markdown",
   "id": "d168e0a5",
   "metadata": {},
   "source": [
    "#### We only have data upto 15th June of 2020, but it can be seen that for the years between 2015-2019 the police killings are on a decline."
   ]
  },
  {
   "cell_type": "code",
   "execution_count": null,
   "id": "1e0cdc67",
   "metadata": {},
   "outputs": [],
   "source": []
  },
  {
   "cell_type": "markdown",
   "id": "346873be",
   "metadata": {},
   "source": [
    "###  Categoriacl Unordered Univariate Analysis"
   ]
  },
  {
   "cell_type": "markdown",
   "id": "b42574be",
   "metadata": {},
   "source": [
    "### Manner Of Death Column : This column shows you whether person is shot dead with gun or taser."
   ]
  },
  {
   "cell_type": "code",
   "execution_count": 19,
   "id": "ebfe923e",
   "metadata": {},
   "outputs": [
    {
     "data": {
      "text/plain": [
       "shot                4647\n",
       "shot and Tasered     248\n",
       "Name: manner_of_death, dtype: int64"
      ]
     },
     "execution_count": 19,
     "metadata": {},
     "output_type": "execute_result"
    }
   ],
   "source": [
    "df.manner_of_death.value_counts()"
   ]
  },
  {
   "cell_type": "code",
   "execution_count": 20,
   "id": "f17c64aa",
   "metadata": {},
   "outputs": [
    {
     "data": {
      "text/plain": [
       "shot                0.949336\n",
       "shot and Tasered    0.050664\n",
       "Name: manner_of_death, dtype: float64"
      ]
     },
     "execution_count": 20,
     "metadata": {},
     "output_type": "execute_result"
    }
   ],
   "source": [
    "df.manner_of_death.value_counts(normalize=True)"
   ]
  },
  {
   "cell_type": "code",
   "execution_count": 24,
   "id": "24ca1cf5",
   "metadata": {},
   "outputs": [
    {
     "data": {
      "image/png": "[encoded data removed]",
      "text/plain": [
       "<Figure size 432x288 with 1 Axes>"
      ]
     },
     "metadata": {
      "needs_background": "light"
     },
     "output_type": "display_data"
    }
   ],
   "source": [
    "df.manner_of_death.value_counts().plot.barh()\n",
    "plt.show()"
   ]
  },
  {
   "cell_type": "code",
   "execution_count": 16,
   "id": "5ebc4b23",
   "metadata": {},
   "outputs": [
    {
     "data": {
      "text/plain": [
       "function"
      ]
     },
     "execution_count": 16,
     "metadata": {},
     "output_type": "execute_result"
    }
   ],
   "source": [
    "plt.plot.__class__"
   ]
  },
  {
   "cell_type": "code",
   "execution_count": 32,
   "id": "74318367",
   "metadata": {},
   "outputs": [
    {
     "data": {
      "image/png": "[encoded data removed]",
      "text/plain": [
       "<Figure size 360x360 with 1 Axes>"
      ]
     },
     "metadata": {},
     "output_type": "display_data"
    }
   ],
   "source": [
    "plt.figure(figsize=(5,5))\n",
    "plt.pie(df.manner_of_death.value_counts() , autopct = '%.2f %%' , labels = ['Shot' , 'Shot and Tasered'] , \n",
    "        colors = ['blue','orange'], explode = (0,0.2))\n",
    "plt.title('Manner Of Death' , fontdict={ 'fontweight' : 'bold', 'fontsize' : 18, })\n",
    "plt.show()"
   ]
  },
  {
   "cell_type": "markdown",
   "id": "420c08f5",
   "metadata": {},
   "source": [
    "#### This 5% of the graph shows the distribution of people that were shot and tasered. The whole point of tasering is to neutralise someone. Its hard to imagine shooting someone even after tasering them. It is really disturbing that the police has to resort to shooting even after using tasers."
   ]
  },
  {
   "cell_type": "code",
   "execution_count": null,
   "id": "0e37f1e5",
   "metadata": {},
   "outputs": [],
   "source": []
  },
  {
   "cell_type": "markdown",
   "id": "ea0af240",
   "metadata": {},
   "source": [
    "### Race Column : In this column people are being categorized based on their skin colours."
   ]
  },
  {
   "cell_type": "code",
   "execution_count": 26,
   "id": "0b16f43e",
   "metadata": {},
   "outputs": [
    {
     "data": {
      "text/plain": [
       "White       2476\n",
       "Black       1298\n",
       "Hispanic     902\n",
       "Asian         93\n",
       "Native        78\n",
       "Other         48\n",
       "Name: race, dtype: int64"
      ]
     },
     "execution_count": 26,
     "metadata": {},
     "output_type": "execute_result"
    }
   ],
   "source": [
    "df.race.value_counts()"
   ]
  },
  {
   "cell_type": "code",
   "execution_count": 27,
   "id": "94de5c52",
   "metadata": {},
   "outputs": [
    {
     "data": {
      "text/plain": [
       "White       0.505822\n",
       "Black       0.265169\n",
       "Hispanic    0.184270\n",
       "Asian       0.018999\n",
       "Native      0.015935\n",
       "Other       0.009806\n",
       "Name: race, dtype: float64"
      ]
     },
     "execution_count": 27,
     "metadata": {},
     "output_type": "execute_result"
    }
   ],
   "source": [
    "df.race.value_counts(normalize=True)"
   ]
  },
  {
   "cell_type": "code",
   "execution_count": 28,
   "id": "6cc8af63",
   "metadata": {},
   "outputs": [
    {
     "data": {
      "text/plain": [
       "<AxesSubplot:>"
      ]
     },
     "execution_count": 28,
     "metadata": {},
     "output_type": "execute_result"
    },
    {
     "data": {
      "image/png": "[encoded data removed]",
      "text/plain": [
       "<Figure size 432x288 with 1 Axes>"
      ]
     },
     "metadata": {
      "needs_background": "light"
     },
     "output_type": "display_data"
    }
   ],
   "source": [
    "df.race.value_counts().plot.barh()"
   ]
  },
  {
   "cell_type": "code",
   "execution_count": 30,
   "id": "4490caa7",
   "metadata": {},
   "outputs": [
    {
     "data": {
      "image/png": "[encoded data removed]",
      "text/plain": [
       "<Figure size 432x288 with 1 Axes>"
      ]
     },
     "metadata": {},
     "output_type": "display_data"
    }
   ],
   "source": [
    "df.race.value_counts().plot.pie()\n",
    "plt.show()"
   ]
  },
  {
   "cell_type": "markdown",
   "id": "ccb9dd85",
   "metadata": {},
   "source": [
    "#### Almost 28% of the shot and tasered victims are Black."
   ]
  },
  {
   "cell_type": "markdown",
   "id": "e610bbf0",
   "metadata": {},
   "source": [
    "### Threat Column : This column represents officers facing threats from the people"
   ]
  },
  {
   "cell_type": "code",
   "execution_count": 32,
   "id": "b5dbac31",
   "metadata": {},
   "outputs": [
    {
     "data": {
      "text/plain": [
       "attack          3160\n",
       "other           1528\n",
       "undetermined     207\n",
       "Name: threat_level, dtype: int64"
      ]
     },
     "execution_count": 32,
     "metadata": {},
     "output_type": "execute_result"
    }
   ],
   "source": [
    "df.threat_level.value_counts()"
   ]
  },
  {
   "cell_type": "code",
   "execution_count": 33,
   "id": "6962588f",
   "metadata": {},
   "outputs": [
    {
     "data": {
      "text/plain": [
       "attack          0.645557\n",
       "other           0.312155\n",
       "undetermined    0.042288\n",
       "Name: threat_level, dtype: float64"
      ]
     },
     "execution_count": 33,
     "metadata": {},
     "output_type": "execute_result"
    }
   ],
   "source": [
    "df.threat_level.value_counts(normalize=True)"
   ]
  },
  {
   "cell_type": "code",
   "execution_count": 36,
   "id": "7b813398",
   "metadata": {},
   "outputs": [
    {
     "data": {
      "image/png": "[encoded data removed]",
      "text/plain": [
       "<Figure size 432x288 with 1 Axes>"
      ]
     },
     "metadata": {
      "needs_background": "light"
     },
     "output_type": "display_data"
    }
   ],
   "source": [
    "df.threat_level.value_counts().plot.barh()\n",
    "plt.show()"
   ]
  },
  {
   "cell_type": "code",
   "execution_count": 47,
   "id": "f5d2b995",
   "metadata": {},
   "outputs": [
    {
     "data": {
      "image/png": "[encoded data removed]",
      "text/plain": [
       "<Figure size 576x576 with 1 Axes>"
      ]
     },
     "metadata": {},
     "output_type": "display_data"
    }
   ],
   "source": [
    "plt.figure(figsize = (8,8))\n",
    "plt.pie(df.threat_level.value_counts() ,  autopct = '%.2f %%', labels = ['attack' , 'other', 'undetermined'])\n",
    "plt.title('Threat level to the police by victims' , fontdict={ 'fontweight' : 'bold', 'fontsize' : 18 })\n",
    "plt.show()"
   ]
  },
  {
   "cell_type": "markdown",
   "id": "ee228b50",
   "metadata": {},
   "source": [
    "#### 'Undetermined' and 'other' are pretty vague descriptions of the threat level posed by the victims. This does not paint a clear picture at all but we have to take the word of the police for it."
   ]
  },
  {
   "cell_type": "code",
   "execution_count": null,
   "id": "672fb97c",
   "metadata": {},
   "outputs": [],
   "source": []
  },
  {
   "cell_type": "markdown",
   "id": "0b0e0adb",
   "metadata": {},
   "source": [
    "### Flee Column : This column gives you information about  people like whether they are running away from officers by using vehicles like Car or they are not running anywhere."
   ]
  },
  {
   "cell_type": "code",
   "execution_count": 41,
   "id": "fa48ada6",
   "metadata": {},
   "outputs": [
    {
     "data": {
      "text/plain": [
       "Not fleeing    3073\n",
       "Car             820\n",
       "Foot            642\n",
       "Other           360\n",
       "Name: flee, dtype: int64"
      ]
     },
     "execution_count": 41,
     "metadata": {},
     "output_type": "execute_result"
    }
   ],
   "source": [
    "df.flee.value_counts()"
   ]
  },
  {
   "cell_type": "code",
   "execution_count": 42,
   "id": "5a49d91a",
   "metadata": {},
   "outputs": [
    {
     "data": {
      "text/plain": [
       "Not fleeing    0.627783\n",
       "Car            0.167518\n",
       "Foot           0.131154\n",
       "Other          0.073544\n",
       "Name: flee, dtype: float64"
      ]
     },
     "execution_count": 42,
     "metadata": {},
     "output_type": "execute_result"
    }
   ],
   "source": [
    "df.flee.value_counts(normalize=True)"
   ]
  },
  {
   "cell_type": "code",
   "execution_count": 44,
   "id": "99ffebe1",
   "metadata": {},
   "outputs": [
    {
     "data": {
      "image/png": "[encoded data removed]",
      "text/plain": [
       "<Figure size 432x288 with 1 Axes>"
      ]
     },
     "metadata": {
      "needs_background": "light"
     },
     "output_type": "display_data"
    }
   ],
   "source": [
    "df.flee.value_counts().plot.barh()\n",
    "plt.show()"
   ]
  },
  {
   "cell_type": "code",
   "execution_count": 50,
   "id": "a0790203",
   "metadata": {},
   "outputs": [
    {
     "data": {
      "image/png": "[encoded data removed]",
      "text/plain": [
       "<Figure size 432x288 with 1 Axes>"
      ]
     },
     "metadata": {
      "needs_background": "light"
     },
     "output_type": "display_data"
    }
   ],
   "source": [
    "plt.hist(df.flee)\n",
    "plt.title('Distribution of victims on the basis of fleeing/not fleeing' , \n",
    "          fontdict={ 'fontweight' : 'bold', 'fontsize' : 18 })\n",
    "plt.xlabel('Flee')\n",
    "plt.ylabel('Number of Victims')\n",
    "plt.show()"
   ]
  },
  {
   "cell_type": "markdown",
   "id": "f892106a",
   "metadata": {},
   "source": [
    "#### Most of the victims fall in the not fleeing category. If they were not even trying to run away, was it really necessary to shoot?"
   ]
  },
  {
   "cell_type": "code",
   "execution_count": 45,
   "id": "61e8d491",
   "metadata": {},
   "outputs": [
    {
     "data": {
      "image/png": "[encoded data removed]",
      "text/plain": [
       "<Figure size 432x288 with 1 Axes>"
      ]
     },
     "metadata": {},
     "output_type": "display_data"
    }
   ],
   "source": [
    "df.flee.value_counts().plot.pie()\n",
    "plt.show()"
   ]
  },
  {
   "cell_type": "markdown",
   "id": "2afccc3b",
   "metadata": {},
   "source": [
    "#### With this plot we can observe that most of the people are not able to escape from police officers but if they are escaping then most them escaping using cars."
   ]
  },
  {
   "cell_type": "code",
   "execution_count": null,
   "id": "97b425da",
   "metadata": {},
   "outputs": [],
   "source": []
  },
  {
   "cell_type": "markdown",
   "id": "2f89f451",
   "metadata": {},
   "source": [
    "### Arms Category : This column indicates that the victim was armed with some sort of weapons which could have harmed police officers."
   ]
  },
  {
   "cell_type": "code",
   "execution_count": 52,
   "id": "f7252674",
   "metadata": {},
   "outputs": [
    {
     "data": {
      "text/html": [
       "<div>\n",
       "<style scoped>\n",
       "    .dataframe tbody tr th:only-of-type {\n",
       "        vertical-align: middle;\n",
       "    }\n",
       "\n",
       "    .dataframe tbody tr th {\n",
       "        vertical-align: top;\n",
       "    }\n",
       "\n",
       "    .dataframe thead th {\n",
       "        text-align: right;\n",
       "    }\n",
       "</style>\n",
       "<table border=\"1\" class=\"dataframe\">\n",
       "  <thead>\n",
       "    <tr style=\"text-align: right;\">\n",
       "      <th></th>\n",
       "      <th>id</th>\n",
       "      <th>name</th>\n",
       "      <th>date</th>\n",
       "      <th>manner_of_death</th>\n",
       "      <th>armed</th>\n",
       "      <th>age</th>\n",
       "      <th>gender</th>\n",
       "      <th>race</th>\n",
       "      <th>city</th>\n",
       "      <th>state</th>\n",
       "      <th>signs_of_mental_illness</th>\n",
       "      <th>threat_level</th>\n",
       "      <th>flee</th>\n",
       "      <th>body_camera</th>\n",
       "      <th>arms_category</th>\n",
       "    </tr>\n",
       "  </thead>\n",
       "  <tbody>\n",
       "    <tr>\n",
       "      <th>0</th>\n",
       "      <td>3</td>\n",
       "      <td>Tim Elliot</td>\n",
       "      <td>2015-01-02</td>\n",
       "      <td>shot</td>\n",
       "      <td>gun</td>\n",
       "      <td>53</td>\n",
       "      <td>M</td>\n",
       "      <td>Asian</td>\n",
       "      <td>Shelton</td>\n",
       "      <td>WA</td>\n",
       "      <td>True</td>\n",
       "      <td>attack</td>\n",
       "      <td>Not fleeing</td>\n",
       "      <td>False</td>\n",
       "      <td>Guns</td>\n",
       "    </tr>\n",
       "    <tr>\n",
       "      <th>1</th>\n",
       "      <td>4</td>\n",
       "      <td>Lewis Lee Lembke</td>\n",
       "      <td>2015-01-02</td>\n",
       "      <td>shot</td>\n",
       "      <td>gun</td>\n",
       "      <td>47</td>\n",
       "      <td>M</td>\n",
       "      <td>White</td>\n",
       "      <td>Aloha</td>\n",
       "      <td>OR</td>\n",
       "      <td>False</td>\n",
       "      <td>attack</td>\n",
       "      <td>Not fleeing</td>\n",
       "      <td>False</td>\n",
       "      <td>Guns</td>\n",
       "    </tr>\n",
       "    <tr>\n",
       "      <th>2</th>\n",
       "      <td>5</td>\n",
       "      <td>John Paul Quintero</td>\n",
       "      <td>2015-01-03</td>\n",
       "      <td>shot and Tasered</td>\n",
       "      <td>unarmed</td>\n",
       "      <td>23</td>\n",
       "      <td>M</td>\n",
       "      <td>Hispanic</td>\n",
       "      <td>Wichita</td>\n",
       "      <td>KS</td>\n",
       "      <td>False</td>\n",
       "      <td>other</td>\n",
       "      <td>Not fleeing</td>\n",
       "      <td>False</td>\n",
       "      <td>Unarmed</td>\n",
       "    </tr>\n",
       "    <tr>\n",
       "      <th>3</th>\n",
       "      <td>8</td>\n",
       "      <td>Matthew Hoffman</td>\n",
       "      <td>2015-01-04</td>\n",
       "      <td>shot</td>\n",
       "      <td>toy weapon</td>\n",
       "      <td>32</td>\n",
       "      <td>M</td>\n",
       "      <td>White</td>\n",
       "      <td>San Francisco</td>\n",
       "      <td>CA</td>\n",
       "      <td>True</td>\n",
       "      <td>attack</td>\n",
       "      <td>Not fleeing</td>\n",
       "      <td>False</td>\n",
       "      <td>Other unusual objects</td>\n",
       "    </tr>\n",
       "    <tr>\n",
       "      <th>4</th>\n",
       "      <td>9</td>\n",
       "      <td>Michael Rodriguez</td>\n",
       "      <td>2015-01-04</td>\n",
       "      <td>shot</td>\n",
       "      <td>nail gun</td>\n",
       "      <td>39</td>\n",
       "      <td>M</td>\n",
       "      <td>Hispanic</td>\n",
       "      <td>Evans</td>\n",
       "      <td>CO</td>\n",
       "      <td>False</td>\n",
       "      <td>attack</td>\n",
       "      <td>Not fleeing</td>\n",
       "      <td>False</td>\n",
       "      <td>Piercing objects</td>\n",
       "    </tr>\n",
       "  </tbody>\n",
       "</table>\n",
       "</div>"
      ],
      "text/plain": [
       "   id                name       date   manner_of_death       armed  age  \\\n",
       "0   3          Tim Elliot 2015-01-02              shot         gun   53   \n",
       "1   4    Lewis Lee Lembke 2015-01-02              shot         gun   47   \n",
       "2   5  John Paul Quintero 2015-01-03  shot and Tasered     unarmed   23   \n",
       "3   8     Matthew Hoffman 2015-01-04              shot  toy weapon   32   \n",
       "4   9   Michael Rodriguez 2015-01-04              shot    nail gun   39   \n",
       "\n",
       "  gender      race           city state  signs_of_mental_illness threat_level  \\\n",
       "0      M     Asian        Shelton    WA                     True       attack   \n",
       "1      M     White          Aloha    OR                    False       attack   \n",
       "2      M  Hispanic        Wichita    KS                    False        other   \n",
       "3      M     White  San Francisco    CA                     True       attack   \n",
       "4      M  Hispanic          Evans    CO                    False       attack   \n",
       "\n",
       "          flee  body_camera          arms_category  \n",
       "0  Not fleeing        False                   Guns  \n",
       "1  Not fleeing        False                   Guns  \n",
       "2  Not fleeing        False                Unarmed  \n",
       "3  Not fleeing        False  Other unusual objects  \n",
       "4  Not fleeing        False       Piercing objects  "
      ]
     },
     "execution_count": 52,
     "metadata": {},
     "output_type": "execute_result"
    }
   ],
   "source": [
    "df.head()"
   ]
  },
  {
   "cell_type": "code",
   "execution_count": 63,
   "id": "c3b2df01",
   "metadata": {},
   "outputs": [
    {
     "data": {
      "text/plain": [
       "Guns                     2764\n",
       "Sharp objects             818\n",
       "Unknown                   418\n",
       "Unarmed                   348\n",
       "Other unusual objects     192\n",
       "Blunt instruments         122\n",
       "Vehicles                  121\n",
       "Multiple                   54\n",
       "Piercing objects           29\n",
       "Electrical devices         24\n",
       "Explosives                  4\n",
       "Hand tools                  1\n",
       "Name: arms_category, dtype: int64"
      ]
     },
     "execution_count": 63,
     "metadata": {},
     "output_type": "execute_result"
    }
   ],
   "source": [
    "df.arms_category.value_counts()"
   ]
  },
  {
   "cell_type": "code",
   "execution_count": 62,
   "id": "93c07637",
   "metadata": {},
   "outputs": [
    {
     "data": {
      "text/plain": [
       "array(['BB gun', 'BB gun and vehicle', 'Taser', 'air conditioner',\n",
       "       'air pistol', 'ax', 'barstool', 'baseball bat',\n",
       "       'baseball bat and bottle', 'baseball bat and fireplace poker',\n",
       "       'baseball bat and knife', 'baton', 'bayonet', 'bean-bag gun',\n",
       "       'beer bottle', 'blunt object', 'bow and arrow', 'box cutter',\n",
       "       'brick', 'car, knife and mace', 'carjack', 'chain', 'chain saw',\n",
       "       'chainsaw', 'chair', \"contractor's level\", 'cordless drill',\n",
       "       'crossbow', 'crowbar', 'fireworks', 'flagpole', 'flashlight',\n",
       "       'garden tool', 'glass shard', 'grenade', 'gun', 'gun and car',\n",
       "       'gun and knife', 'gun and sword', 'gun and vehicle',\n",
       "       'guns and explosives', 'hammer', 'hand torch', 'hatchet',\n",
       "       'hatchet and gun', 'ice pick', 'incendiary device', 'knife',\n",
       "       'lawn mower blade', 'machete', 'machete and gun', 'meat cleaver',\n",
       "       'metal hand tool', 'metal object', 'metal pipe', 'metal pole',\n",
       "       'metal rake', 'metal stick', 'motorcycle', 'nail gun', 'oar',\n",
       "       'pellet gun', 'pen', 'pepper spray', 'pick-axe', 'piece of wood',\n",
       "       'pipe', 'pitchfork', 'pole', 'pole and knife', 'rock',\n",
       "       'samurai sword', 'scissors', 'screwdriver', 'sharp object',\n",
       "       'shovel', 'spear', 'stapler', 'straight edge razor', 'sword',\n",
       "       'toy weapon', 'unarmed', 'unknown', 'vehicle', 'vehicle and gun',\n",
       "       'vehicle and machete', 'walking stick', 'wasp spray', 'wrench'],\n",
       "      dtype=object)"
      ]
     },
     "execution_count": 62,
     "metadata": {},
     "output_type": "execute_result"
    }
   ],
   "source": [
    "np.unique(df.armed)"
   ]
  },
  {
   "cell_type": "markdown",
   "id": "deff95f4",
   "metadata": {},
   "source": [
    "#### The US Police Department have done a pretty good job of putting almost every possible weapon known to me on that list.This list contains some object that would barely qualify as a weapon."
   ]
  },
  {
   "cell_type": "code",
   "execution_count": 60,
   "id": "31cf72bf",
   "metadata": {},
   "outputs": [
    {
     "data": {
      "text/plain": [
       "<AxesSubplot:>"
      ]
     },
     "execution_count": 60,
     "metadata": {},
     "output_type": "execute_result"
    },
    {
     "data": {
      "image/png": "[encoded data removed]",
      "text/plain": [
       "<Figure size 720x720 with 1 Axes>"
      ]
     },
     "metadata": {
      "needs_background": "light"
     },
     "output_type": "display_data"
    }
   ],
   "source": [
    "plt.figure(figsize=(10,10))\n",
    "df.armed.value_counts().head(10).plot.barh()"
   ]
  },
  {
   "cell_type": "code",
   "execution_count": 57,
   "id": "25cf1eb8",
   "metadata": {},
   "outputs": [
    {
     "data": {
      "image/png": "[encoded data removed]",
      "text/plain": [
       "<Figure size 720x720 with 1 Axes>"
      ]
     },
     "metadata": {
      "needs_background": "light"
     },
     "output_type": "display_data"
    }
   ],
   "source": [
    "data = df['armed'].value_counts().reset_index().head(25)\n",
    "data.columns = ['Weapon' , 'Count']\n",
    "plt.figure(figsize = (10,10))\n",
    "sns.barplot(x = 'Count' , y = 'Weapon' , data = data)\n",
    "plt.title('Most common weapons present with the victims' , fontdict={ 'fontweight' : 'bold', 'fontsize' : 18 })\n",
    "plt.show()"
   ]
  },
  {
   "cell_type": "markdown",
   "id": "215d95b2",
   "metadata": {},
   "source": [
    "#### We can see that the most popular weapons are gun and knife but they are followed by unknown and unarmed. Lets take a deeper dive to understand this pattern. Lets focus on the \"Unarmed victims\" for our next part of analysis."
   ]
  },
  {
   "cell_type": "code",
   "execution_count": 72,
   "id": "099465a7",
   "metadata": {},
   "outputs": [
    {
     "data": {
      "image/png": "[encoded data removed]",
      "text/plain": [
       "<Figure size 648x648 with 1 Axes>"
      ]
     },
     "metadata": {},
     "output_type": "display_data"
    }
   ],
   "source": [
    "label = ['Unarmed','Armed']\n",
    "ar = []\n",
    "op = df[df.armed == 'unarmed']\n",
    "ar.append(op.shape[0])\n",
    "ar.append(df.shape[0]-ar[0])\n",
    "colors = ['lightGreen','indianRed']\n",
    "fig = plt.figure(figsize=(9,9))\n",
    "plt.pie(ar,labels=label,autopct='%.2f %%',colors = colors, explode=(0,0.2))\n",
    "plt.title(\"Distribution of Armed and Unarmed victims when killed by the police\" , \n",
    "          fontdict={ 'fontweight' : 'bold', 'fontsize' : 18 })\n",
    "plt.show()"
   ]
  },
  {
   "cell_type": "markdown",
   "id": "be200fa4",
   "metadata": {},
   "source": [
    "#### In 7% of the total police shootings after 2015, the victim was unarmed. It is hard to comprehend the fact that the police to shoot someone who was unarmed. It could have been prevented for sure.Let's look at the racial distribution of the unarmed victims."
   ]
  },
  {
   "cell_type": "markdown",
   "id": "4715a790",
   "metadata": {},
   "source": [
    "### Categorical ordered univariate analysis"
   ]
  },
  {
   "cell_type": "markdown",
   "id": "6090ff38",
   "metadata": {},
   "source": [
    "#### PLOT FOR NUMBER OF PEOPLE BY GENDER"
   ]
  },
  {
   "cell_type": "code",
   "execution_count": 55,
   "id": "105469e3",
   "metadata": {},
   "outputs": [
    {
     "data": {
      "text/plain": [
       "M    4673\n",
       "F     222\n",
       "Name: gender, dtype: int64"
      ]
     },
     "execution_count": 55,
     "metadata": {},
     "output_type": "execute_result"
    }
   ],
   "source": [
    "df.gender.value_counts()"
   ]
  },
  {
   "cell_type": "code",
   "execution_count": 56,
   "id": "67724bf3",
   "metadata": {},
   "outputs": [
    {
     "data": {
      "image/png": "[encoded data removed]",
      "text/plain": [
       "<Figure size 432x288 with 1 Axes>"
      ]
     },
     "metadata": {
      "needs_background": "light"
     },
     "output_type": "display_data"
    }
   ],
   "source": [
    "df.gender.value_counts().plot.barh().set_title(\"Gender Distribution\")\n",
    "plt.show()"
   ]
  },
  {
   "cell_type": "code",
   "execution_count": 84,
   "id": "119b37ee",
   "metadata": {},
   "outputs": [
    {
     "data": {
      "image/png": "[encoded data removed]",
      "text/plain": [
       "<Figure size 432x288 with 1 Axes>"
      ]
     },
     "metadata": {
      "needs_background": "light"
     },
     "output_type": "display_data"
    }
   ],
   "source": [
    "x=df.gender.value_counts().index\n",
    "y=df.gender.value_counts().values\n",
    "plt.title('Gender Distribution', color='orange')\n",
    "for i in range(len(y)):\n",
    "    plt.text(x[i],y[i],str(y[i]), ha='center', va='bottom') \n",
    "plt.bar(x,y)\n",
    "plt.show()"
   ]
  },
  {
   "cell_type": "code",
   "execution_count": 98,
   "id": "eb9ea369",
   "metadata": {},
   "outputs": [
    {
     "data": {
      "image/png": "[encoded data removed]",
      "text/plain": [
       "<Figure size 504x504 with 1 Axes>"
      ]
     },
     "metadata": {},
     "output_type": "display_data"
    }
   ],
   "source": [
    "plt.figure(figsize=(7,7))\n",
    "plt.pie(df.gender.value_counts() , autopct = '%.2f %%' , labels = ['Male' , 'Female'] ,explode = (0,0.2))\n",
    "plt.title('Gender distribution of the victims' , fontdict={ 'fontweight' : 'bold', 'fontsize' : 18 })\n",
    "plt.show()"
   ]
  },
  {
   "attachments": {},
   "cell_type": "markdown",
   "id": "8cd7f563",
   "metadata": {},
   "source": [
    "#### Around 22.5% of the victims showed some mental illness."
   ]
  },
  {
   "cell_type": "code",
   "execution_count": 63,
   "id": "f88ef2a6",
   "metadata": {},
   "outputs": [
    {
     "data": {
      "text/plain": [
       "False    3792\n",
       "True     1103\n",
       "Name: signs_of_mental_illness, dtype: int64"
      ]
     },
     "execution_count": 63,
     "metadata": {},
     "output_type": "execute_result"
    }
   ],
   "source": [
    "df.signs_of_mental_illness.value_counts()"
   ]
  },
  {
   "cell_type": "code",
   "execution_count": 65,
   "id": "41635a48",
   "metadata": {},
   "outputs": [
    {
     "data": {
      "text/plain": [
       "False    0.774668\n",
       "True     0.225332\n",
       "Name: signs_of_mental_illness, dtype: float64"
      ]
     },
     "execution_count": 65,
     "metadata": {},
     "output_type": "execute_result"
    }
   ],
   "source": [
    "df.signs_of_mental_illness.value_counts(normalize=True)"
   ]
  },
  {
   "cell_type": "code",
   "execution_count": 72,
   "id": "e5fc8289",
   "metadata": {},
   "outputs": [
    {
     "data": {
      "image/png": "[encoded data removed]",
      "text/plain": [
       "<Figure size 432x288 with 1 Axes>"
      ]
     },
     "metadata": {
      "needs_background": "light"
     },
     "output_type": "display_data"
    }
   ],
   "source": [
    "df.signs_of_mental_illness.value_counts().plot.barh().set_title(\"Signs_Of_Mental_Illness\")\n",
    "plt.show()"
   ]
  },
  {
   "cell_type": "code",
   "execution_count": 95,
   "id": "4a82e4bf",
   "metadata": {},
   "outputs": [
    {
     "data": {
      "image/png": "[encoded data removed]",
      "text/plain": [
       "<Figure size 504x504 with 1 Axes>"
      ]
     },
     "metadata": {},
     "output_type": "display_data"
    }
   ],
   "source": [
    "plt.figure(figsize = (7,7))\n",
    "plt.pie(df.signs_of_mental_illness.value_counts() , autopct = '%.2f %%' , colors = ['lightgreen','salmon'], \n",
    "        labels = [ 'False','True' ])\n",
    "plt.title('Percentage of victims with some mental illness' , fontdict={ 'fontweight' : 'bold', 'fontsize' : 18 },)\n",
    "plt.show()"
   ]
  },
  {
   "cell_type": "markdown",
   "id": "c207fa08",
   "metadata": {},
   "source": [
    "#### Around 22.5% of the victims showed some mental illness."
   ]
  },
  {
   "cell_type": "code",
   "execution_count": 93,
   "id": "aa272340",
   "metadata": {},
   "outputs": [
    {
     "data": {
      "text/html": [
       "<div>\n",
       "<style scoped>\n",
       "    .dataframe tbody tr th:only-of-type {\n",
       "        vertical-align: middle;\n",
       "    }\n",
       "\n",
       "    .dataframe tbody tr th {\n",
       "        vertical-align: top;\n",
       "    }\n",
       "\n",
       "    .dataframe thead th {\n",
       "        text-align: right;\n",
       "    }\n",
       "</style>\n",
       "<table border=\"1\" class=\"dataframe\">\n",
       "  <thead>\n",
       "    <tr style=\"text-align: right;\">\n",
       "      <th></th>\n",
       "      <th>id</th>\n",
       "      <th>name</th>\n",
       "      <th>date</th>\n",
       "      <th>manner_of_death</th>\n",
       "      <th>armed</th>\n",
       "      <th>age</th>\n",
       "      <th>gender</th>\n",
       "      <th>race</th>\n",
       "      <th>city</th>\n",
       "      <th>state</th>\n",
       "      <th>signs_of_mental_illness</th>\n",
       "      <th>threat_level</th>\n",
       "      <th>flee</th>\n",
       "      <th>body_camera</th>\n",
       "      <th>arms_category</th>\n",
       "      <th>year</th>\n",
       "    </tr>\n",
       "  </thead>\n",
       "  <tbody>\n",
       "    <tr>\n",
       "      <th>0</th>\n",
       "      <td>3</td>\n",
       "      <td>Tim Elliot</td>\n",
       "      <td>2015-01-02</td>\n",
       "      <td>shot</td>\n",
       "      <td>gun</td>\n",
       "      <td>53.0</td>\n",
       "      <td>M</td>\n",
       "      <td>Asian</td>\n",
       "      <td>Shelton</td>\n",
       "      <td>WA</td>\n",
       "      <td>True</td>\n",
       "      <td>attack</td>\n",
       "      <td>Not fleeing</td>\n",
       "      <td>False</td>\n",
       "      <td>Guns</td>\n",
       "      <td>2015</td>\n",
       "    </tr>\n",
       "    <tr>\n",
       "      <th>1</th>\n",
       "      <td>4</td>\n",
       "      <td>Lewis Lee Lembke</td>\n",
       "      <td>2015-01-02</td>\n",
       "      <td>shot</td>\n",
       "      <td>gun</td>\n",
       "      <td>47.0</td>\n",
       "      <td>M</td>\n",
       "      <td>White</td>\n",
       "      <td>Aloha</td>\n",
       "      <td>OR</td>\n",
       "      <td>False</td>\n",
       "      <td>attack</td>\n",
       "      <td>Not fleeing</td>\n",
       "      <td>False</td>\n",
       "      <td>Guns</td>\n",
       "      <td>2015</td>\n",
       "    </tr>\n",
       "    <tr>\n",
       "      <th>2</th>\n",
       "      <td>5</td>\n",
       "      <td>John Paul Quintero</td>\n",
       "      <td>2015-01-03</td>\n",
       "      <td>shot and Tasered</td>\n",
       "      <td>unarmed</td>\n",
       "      <td>23.0</td>\n",
       "      <td>M</td>\n",
       "      <td>Hispanic</td>\n",
       "      <td>Wichita</td>\n",
       "      <td>KS</td>\n",
       "      <td>False</td>\n",
       "      <td>other</td>\n",
       "      <td>Not fleeing</td>\n",
       "      <td>False</td>\n",
       "      <td>Unarmed</td>\n",
       "      <td>2015</td>\n",
       "    </tr>\n",
       "    <tr>\n",
       "      <th>3</th>\n",
       "      <td>8</td>\n",
       "      <td>Matthew Hoffman</td>\n",
       "      <td>2015-01-04</td>\n",
       "      <td>shot</td>\n",
       "      <td>toy weapon</td>\n",
       "      <td>32.0</td>\n",
       "      <td>M</td>\n",
       "      <td>White</td>\n",
       "      <td>San Francisco</td>\n",
       "      <td>CA</td>\n",
       "      <td>True</td>\n",
       "      <td>attack</td>\n",
       "      <td>Not fleeing</td>\n",
       "      <td>False</td>\n",
       "      <td>Other unusual objects</td>\n",
       "      <td>2015</td>\n",
       "    </tr>\n",
       "    <tr>\n",
       "      <th>4</th>\n",
       "      <td>9</td>\n",
       "      <td>Michael Rodriguez</td>\n",
       "      <td>2015-01-04</td>\n",
       "      <td>shot</td>\n",
       "      <td>nail gun</td>\n",
       "      <td>39.0</td>\n",
       "      <td>M</td>\n",
       "      <td>Hispanic</td>\n",
       "      <td>Evans</td>\n",
       "      <td>CO</td>\n",
       "      <td>False</td>\n",
       "      <td>attack</td>\n",
       "      <td>Not fleeing</td>\n",
       "      <td>False</td>\n",
       "      <td>Piercing objects</td>\n",
       "      <td>2015</td>\n",
       "    </tr>\n",
       "  </tbody>\n",
       "</table>\n",
       "</div>"
      ],
      "text/plain": [
       "   id                name        date   manner_of_death       armed   age  \\\n",
       "0   3          Tim Elliot  2015-01-02              shot         gun  53.0   \n",
       "1   4    Lewis Lee Lembke  2015-01-02              shot         gun  47.0   \n",
       "2   5  John Paul Quintero  2015-01-03  shot and Tasered     unarmed  23.0   \n",
       "3   8     Matthew Hoffman  2015-01-04              shot  toy weapon  32.0   \n",
       "4   9   Michael Rodriguez  2015-01-04              shot    nail gun  39.0   \n",
       "\n",
       "  gender      race           city state  signs_of_mental_illness threat_level  \\\n",
       "0      M     Asian        Shelton    WA                     True       attack   \n",
       "1      M     White          Aloha    OR                    False       attack   \n",
       "2      M  Hispanic        Wichita    KS                    False        other   \n",
       "3      M     White  San Francisco    CA                     True       attack   \n",
       "4      M  Hispanic          Evans    CO                    False       attack   \n",
       "\n",
       "          flee  body_camera          arms_category  year  \n",
       "0  Not fleeing        False                   Guns  2015  \n",
       "1  Not fleeing        False                   Guns  2015  \n",
       "2  Not fleeing        False                Unarmed  2015  \n",
       "3  Not fleeing        False  Other unusual objects  2015  \n",
       "4  Not fleeing        False       Piercing objects  2015  "
      ]
     },
     "execution_count": 93,
     "metadata": {},
     "output_type": "execute_result"
    }
   ],
   "source": [
    "df.head()"
   ]
  },
  {
   "cell_type": "code",
   "execution_count": 68,
   "id": "f4321b1a",
   "metadata": {},
   "outputs": [
    {
     "data": {
      "image/png": "[encoded data removed]",
      "text/plain": [
       "<Figure size 432x288 with 1 Axes>"
      ]
     },
     "metadata": {},
     "output_type": "display_data"
    }
   ],
   "source": [
    "df.signs_of_mental_illness.value_counts().plot.pie()\n",
    "plt.show()"
   ]
  },
  {
   "cell_type": "markdown",
   "id": "3e0b3fe7",
   "metadata": {},
   "source": [
    "#### PLOT FOR WHEATHER NEWS REPORTER INDICATING AN OFFICER WEARING A BODY CAMERA OR NOT"
   ]
  },
  {
   "cell_type": "code",
   "execution_count": 86,
   "id": "52c6cf61",
   "metadata": {},
   "outputs": [
    {
     "data": {
      "text/plain": [
       "False    4317\n",
       "True      578\n",
       "Name: body_camera, dtype: int64"
      ]
     },
     "execution_count": 86,
     "metadata": {},
     "output_type": "execute_result"
    }
   ],
   "source": [
    "df.body_camera.value_counts()"
   ]
  },
  {
   "cell_type": "code",
   "execution_count": 87,
   "id": "6a7edbd0",
   "metadata": {},
   "outputs": [
    {
     "data": {
      "text/plain": [
       "False    0.88192\n",
       "True     0.11808\n",
       "Name: body_camera, dtype: float64"
      ]
     },
     "execution_count": 87,
     "metadata": {},
     "output_type": "execute_result"
    }
   ],
   "source": [
    "df.body_camera.value_counts(normalize=True)"
   ]
  },
  {
   "cell_type": "code",
   "execution_count": 101,
   "id": "78180185",
   "metadata": {},
   "outputs": [
    {
     "data": {
      "image/png": "[encoded data removed]",
      "text/plain": [
       "<Figure size 432x288 with 1 Axes>"
      ]
     },
     "metadata": {
      "needs_background": "light"
     },
     "output_type": "display_data"
    }
   ],
   "source": [
    "df.body_camera.value_counts().plot.barh().set_title(\"Body_Camera\")\n",
    "plt.show()"
   ]
  },
  {
   "cell_type": "code",
   "execution_count": 21,
   "id": "1e0eb5f0",
   "metadata": {},
   "outputs": [
    {
     "data": {
      "image/png": "[encoded data removed]",
      "text/plain": [
       "<Figure size 504x504 with 1 Axes>"
      ]
     },
     "metadata": {},
     "output_type": "display_data"
    }
   ],
   "source": [
    "fig = plt.figure(figsize=(7,7))\n",
    "plt.pie(df.body_camera.value_counts(),autopct = '%.2f %%',labels = ['No body cam', 'Body cam'], colors=['orange','lightblue'])\n",
    "plt.title(\"Percentage of officers wearing body cam\", \n",
    "          fontdict={ 'fontweight' : 'bold', 'fontsize' : 18 })\n",
    "plt.show()"
   ]
  },
  {
   "cell_type": "code",
   "execution_count": 100,
   "id": "82d03897",
   "metadata": {},
   "outputs": [
    {
     "data": {
      "image/png": "[encoded data removed]",
      "text/plain": [
       "<Figure size 432x288 with 1 Axes>"
      ]
     },
     "metadata": {},
     "output_type": "display_data"
    }
   ],
   "source": [
    "df.body_camera.value_counts().plot.pie()\n",
    "plt.show()"
   ]
  },
  {
   "cell_type": "markdown",
   "id": "276e13ea",
   "metadata": {},
   "source": [
    "#### Only a 12% of Officers were wearing a body cam in these cases."
   ]
  },
  {
   "cell_type": "code",
   "execution_count": 22,
   "id": "d1fc1011",
   "metadata": {},
   "outputs": [
    {
     "data": {
      "image/png": "[encoded data removed]",
      "text/plain": [
       "<Figure size 504x504 with 1 Axes>"
      ]
     },
     "metadata": {},
     "output_type": "display_data"
    }
   ],
   "source": [
    "fig = plt.figure(figsize=(7,7))\n",
    "plt.pie(df.body_camera.value_counts(),autopct = '%.2f %%',labels = ['No body cam', 'Body cam'])\n",
    "plt.title(\"Percentage of officers wearing body cam\", \n",
    "          fontdict={ 'fontweight' : 'bold', 'fontsize' : 18 })\n",
    "plt.show()"
   ]
  },
  {
   "cell_type": "markdown",
   "id": "dbb24f0d",
   "metadata": {},
   "source": [
    "### Bivariate and Multivariate Analysis"
   ]
  },
  {
   "cell_type": "markdown",
   "id": "3ba676d3",
   "metadata": {},
   "source": [
    "#### Numeric - Numeric Analysis"
   ]
  },
  {
   "cell_type": "code",
   "execution_count": 25,
   "id": "4afb39a1",
   "metadata": {},
   "outputs": [
    {
     "data": {
      "text/html": [
       "<div>\n",
       "<style scoped>\n",
       "    .dataframe tbody tr th:only-of-type {\n",
       "        vertical-align: middle;\n",
       "    }\n",
       "\n",
       "    .dataframe tbody tr th {\n",
       "        vertical-align: top;\n",
       "    }\n",
       "\n",
       "    .dataframe thead th {\n",
       "        text-align: right;\n",
       "    }\n",
       "</style>\n",
       "<table border=\"1\" class=\"dataframe\">\n",
       "  <thead>\n",
       "    <tr style=\"text-align: right;\">\n",
       "      <th></th>\n",
       "      <th>id</th>\n",
       "      <th>name</th>\n",
       "      <th>date</th>\n",
       "      <th>manner_of_death</th>\n",
       "      <th>armed</th>\n",
       "      <th>age</th>\n",
       "      <th>gender</th>\n",
       "      <th>race</th>\n",
       "      <th>city</th>\n",
       "      <th>state</th>\n",
       "      <th>signs_of_mental_illness</th>\n",
       "      <th>threat_level</th>\n",
       "      <th>flee</th>\n",
       "      <th>body_camera</th>\n",
       "      <th>arms_category</th>\n",
       "      <th>year</th>\n",
       "    </tr>\n",
       "  </thead>\n",
       "  <tbody>\n",
       "    <tr>\n",
       "      <th>0</th>\n",
       "      <td>3</td>\n",
       "      <td>Tim Elliot</td>\n",
       "      <td>2015-01-02</td>\n",
       "      <td>shot</td>\n",
       "      <td>gun</td>\n",
       "      <td>53</td>\n",
       "      <td>M</td>\n",
       "      <td>Asian</td>\n",
       "      <td>Shelton</td>\n",
       "      <td>WA</td>\n",
       "      <td>True</td>\n",
       "      <td>attack</td>\n",
       "      <td>Not fleeing</td>\n",
       "      <td>False</td>\n",
       "      <td>Guns</td>\n",
       "      <td>2015</td>\n",
       "    </tr>\n",
       "    <tr>\n",
       "      <th>1</th>\n",
       "      <td>4</td>\n",
       "      <td>Lewis Lee Lembke</td>\n",
       "      <td>2015-01-02</td>\n",
       "      <td>shot</td>\n",
       "      <td>gun</td>\n",
       "      <td>47</td>\n",
       "      <td>M</td>\n",
       "      <td>White</td>\n",
       "      <td>Aloha</td>\n",
       "      <td>OR</td>\n",
       "      <td>False</td>\n",
       "      <td>attack</td>\n",
       "      <td>Not fleeing</td>\n",
       "      <td>False</td>\n",
       "      <td>Guns</td>\n",
       "      <td>2015</td>\n",
       "    </tr>\n",
       "    <tr>\n",
       "      <th>2</th>\n",
       "      <td>5</td>\n",
       "      <td>John Paul Quintero</td>\n",
       "      <td>2015-01-03</td>\n",
       "      <td>shot and Tasered</td>\n",
       "      <td>unarmed</td>\n",
       "      <td>23</td>\n",
       "      <td>M</td>\n",
       "      <td>Hispanic</td>\n",
       "      <td>Wichita</td>\n",
       "      <td>KS</td>\n",
       "      <td>False</td>\n",
       "      <td>other</td>\n",
       "      <td>Not fleeing</td>\n",
       "      <td>False</td>\n",
       "      <td>Unarmed</td>\n",
       "      <td>2015</td>\n",
       "    </tr>\n",
       "    <tr>\n",
       "      <th>3</th>\n",
       "      <td>8</td>\n",
       "      <td>Matthew Hoffman</td>\n",
       "      <td>2015-01-04</td>\n",
       "      <td>shot</td>\n",
       "      <td>toy weapon</td>\n",
       "      <td>32</td>\n",
       "      <td>M</td>\n",
       "      <td>White</td>\n",
       "      <td>San Francisco</td>\n",
       "      <td>CA</td>\n",
       "      <td>True</td>\n",
       "      <td>attack</td>\n",
       "      <td>Not fleeing</td>\n",
       "      <td>False</td>\n",
       "      <td>Other unusual objects</td>\n",
       "      <td>2015</td>\n",
       "    </tr>\n",
       "    <tr>\n",
       "      <th>4</th>\n",
       "      <td>9</td>\n",
       "      <td>Michael Rodriguez</td>\n",
       "      <td>2015-01-04</td>\n",
       "      <td>shot</td>\n",
       "      <td>nail gun</td>\n",
       "      <td>39</td>\n",
       "      <td>M</td>\n",
       "      <td>Hispanic</td>\n",
       "      <td>Evans</td>\n",
       "      <td>CO</td>\n",
       "      <td>False</td>\n",
       "      <td>attack</td>\n",
       "      <td>Not fleeing</td>\n",
       "      <td>False</td>\n",
       "      <td>Piercing objects</td>\n",
       "      <td>2015</td>\n",
       "    </tr>\n",
       "  </tbody>\n",
       "</table>\n",
       "</div>"
      ],
      "text/plain": [
       "   id                name       date   manner_of_death       armed  age  \\\n",
       "0   3          Tim Elliot 2015-01-02              shot         gun   53   \n",
       "1   4    Lewis Lee Lembke 2015-01-02              shot         gun   47   \n",
       "2   5  John Paul Quintero 2015-01-03  shot and Tasered     unarmed   23   \n",
       "3   8     Matthew Hoffman 2015-01-04              shot  toy weapon   32   \n",
       "4   9   Michael Rodriguez 2015-01-04              shot    nail gun   39   \n",
       "\n",
       "  gender      race           city state  signs_of_mental_illness threat_level  \\\n",
       "0      M     Asian        Shelton    WA                     True       attack   \n",
       "1      M     White          Aloha    OR                    False       attack   \n",
       "2      M  Hispanic        Wichita    KS                    False        other   \n",
       "3      M     White  San Francisco    CA                     True       attack   \n",
       "4      M  Hispanic          Evans    CO                    False       attack   \n",
       "\n",
       "          flee  body_camera          arms_category  year  \n",
       "0  Not fleeing        False                   Guns  2015  \n",
       "1  Not fleeing        False                   Guns  2015  \n",
       "2  Not fleeing        False                Unarmed  2015  \n",
       "3  Not fleeing        False  Other unusual objects  2015  \n",
       "4  Not fleeing        False       Piercing objects  2015  "
      ]
     },
     "execution_count": 25,
     "metadata": {},
     "output_type": "execute_result"
    }
   ],
   "source": [
    "df1=df.copy()\n",
    "df1.head()"
   ]
  },
  {
   "cell_type": "code",
   "execution_count": 27,
   "id": "556a408a",
   "metadata": {},
   "outputs": [],
   "source": [
    "df1['mental_health_issues']=df1['signs_of_mental_illness'].apply(lambda x: 1 if x==True else 0)"
   ]
  },
  {
   "cell_type": "code",
   "execution_count": 30,
   "id": "1d420422",
   "metadata": {},
   "outputs": [
    {
     "data": {
      "text/plain": [
       "0.5484398724528722"
      ]
     },
     "execution_count": 30,
     "metadata": {},
     "output_type": "execute_result"
    }
   ],
   "source": [
    "res=df1[['age','mental_health_issues']].corr()\n",
    "res.mean().mean()"
   ]
  },
  {
   "cell_type": "code",
   "execution_count": 34,
   "id": "237a4c68",
   "metadata": {},
   "outputs": [
    {
     "data": {
      "image/png": "[encoded data removed]",
      "text/plain": [
       "<Figure size 432x288 with 2 Axes>"
      ]
     },
     "metadata": {},
     "output_type": "display_data"
    }
   ],
   "source": [
    "sns.heatmap(res, annot=True, cmap='RdYlGn', center=0.548)\n",
    "plt.title('Correlation between age and people with mental health issues', fontweight='bold', fontsize=18)\n",
    "plt.show()"
   ]
  },
  {
   "cell_type": "markdown",
   "id": "7ff10209",
   "metadata": {},
   "source": [
    "#### With this plot we will get linear relationship between different numerical data type columns(age, mental_health_issues)."
   ]
  },
  {
   "cell_type": "markdown",
   "id": "97b76877",
   "metadata": {},
   "source": [
    "#### Categorical - Numerical Analysis"
   ]
  },
  {
   "cell_type": "markdown",
   "id": "55c4b5f0",
   "metadata": {},
   "source": [
    "#### PLOT FOR THE NUMBER OF AGE OF KILLED PEOPLE UNDER TWO GROUPS: UNDER 25 & ABOVE 25"
   ]
  },
  {
   "cell_type": "code",
   "execution_count": 12,
   "id": "0ef05864",
   "metadata": {},
   "outputs": [],
   "source": [
    "df1['age_category']=df1['age'].apply(lambda x: \"Above 25\" if x>=25 else(\"Below 25\" if x<25 else \"Others\"))"
   ]
  },
  {
   "cell_type": "code",
   "execution_count": 14,
   "id": "676c8e04",
   "metadata": {},
   "outputs": [
    {
     "data": {
      "text/plain": [
       "Above 25    4044\n",
       "Below 25     851\n",
       "Name: age_category, dtype: int64"
      ]
     },
     "execution_count": 14,
     "metadata": {},
     "output_type": "execute_result"
    }
   ],
   "source": [
    "df1['age_category'].value_counts()"
   ]
  },
  {
   "cell_type": "code",
   "execution_count": 22,
   "id": "f1b9ddb3",
   "metadata": {},
   "outputs": [
    {
     "data": {
      "image/png": "[encoded data removed]",
      "text/plain": [
       "<Figure size 432x288 with 1 Axes>"
      ]
     },
     "metadata": {
      "needs_background": "light"
     },
     "output_type": "display_data"
    }
   ],
   "source": [
    "x=df1.age_category.value_counts().index\n",
    "y=df1.age_category.value_counts().values\n",
    "plt.bar(x,y)\n",
    "plt.title(\"Age Category\")\n",
    "for i in range(2):\n",
    "    plt.text(x[i], y[i], str([y[i]]), ha='center', va='bottom')"
   ]
  },
  {
   "cell_type": "markdown",
   "id": "5ef335c6",
   "metadata": {},
   "source": [
    "#### PLOT FOR PEOPLE MENTAL HEALTH CONDITION UNDER TWO CATEGORIES: ABOVE 25 & BELOW 25"
   ]
  },
  {
   "cell_type": "code",
   "execution_count": 23,
   "id": "effe71d5",
   "metadata": {},
   "outputs": [
    {
     "data": {
      "image/png": "[encoded data removed]",
      "text/plain": [
       "<Figure size 432x288 with 1 Axes>"
      ]
     },
     "metadata": {
      "needs_background": "light"
     },
     "output_type": "display_data"
    }
   ],
   "source": [
    "df1.groupby('age_category')['mental_health_issues'].mean().plot.barh().set_title(\"Mental Health Issues\")\n",
    "plt.show()"
   ]
  },
  {
   "cell_type": "markdown",
   "id": "c7bf6ec6",
   "metadata": {},
   "source": [
    "#### If we observe carefully here, people with more than 25 years are having more mental health issues than people having below 25 years."
   ]
  },
  {
   "cell_type": "code",
   "execution_count": null,
   "id": "a0784c8e",
   "metadata": {},
   "outputs": [],
   "source": []
  },
  {
   "cell_type": "markdown",
   "id": "b7481c0b",
   "metadata": {},
   "source": [
    "#### PLOT FOR  PEOPLE MENTAL HEALTH CONDITION COMPARING BETWEEN MALE AND FEMALE"
   ]
  },
  {
   "cell_type": "code",
   "execution_count": 21,
   "id": "33b23d62",
   "metadata": {},
   "outputs": [
    {
     "data": {
      "image/png": "[encoded data removed]",
      "text/plain": [
       "<Figure size 432x288 with 1 Axes>"
      ]
     },
     "metadata": {
      "needs_background": "light"
     },
     "output_type": "display_data"
    }
   ],
   "source": [
    "df1.groupby('gender')['mental_health_issues'].mean().plot.barh().set_title(\"Mental Health Issues\")\n",
    "plt.show()"
   ]
  },
  {
   "cell_type": "markdown",
   "id": "eb62fc17",
   "metadata": {},
   "source": [
    "#### With this plot we can say that females are likely to have more mental health issues than that of males."
   ]
  },
  {
   "cell_type": "code",
   "execution_count": null,
   "id": "ccfc16eb",
   "metadata": {},
   "outputs": [],
   "source": []
  },
  {
   "cell_type": "markdown",
   "id": "1fa30ca3",
   "metadata": {},
   "source": [
    "#### PLOT BEWTEEN PEOPLE MENTAL HEALTH CONDITION AND THE WAY THEY ARE THREATENING POLICE OFFICERS"
   ]
  },
  {
   "cell_type": "code",
   "execution_count": 24,
   "id": "46156147",
   "metadata": {},
   "outputs": [
    {
     "data": {
      "image/png": "[encoded data removed]",
      "text/plain": [
       "<Figure size 432x288 with 1 Axes>"
      ]
     },
     "metadata": {
      "needs_background": "light"
     },
     "output_type": "display_data"
    }
   ],
   "source": [
    "df1.groupby('threat_level')['mental_health_issues'].mean().plot.barh().set_title(\"Mental Health Issues\")\n",
    "plt.show()"
   ]
  },
  {
   "cell_type": "markdown",
   "id": "9786b0d9",
   "metadata": {},
   "source": [
    "#### Here, if we observe carefully people are mostly from \"other\" category that means where officers or others faced significant threats and after that people with mental health issues are more likely to threaten police officers and that is obvious."
   ]
  },
  {
   "cell_type": "markdown",
   "id": "718c8a81",
   "metadata": {},
   "source": [
    "### Categorical - Categorical Analysis"
   ]
  },
  {
   "cell_type": "code",
   "execution_count": 33,
   "id": "3460fc12",
   "metadata": {},
   "outputs": [
    {
     "data": {
      "text/plain": [
       "0    4317\n",
       "1     578\n",
       "Name: officer_camera, dtype: int64"
      ]
     },
     "execution_count": 33,
     "metadata": {},
     "output_type": "execute_result"
    }
   ],
   "source": [
    "df1['officer_camera']=df1['body_camera'].apply(lambda x: 1 if x==True else 0)\n",
    "df1['officer_camera'].value_counts()"
   ]
  },
  {
   "cell_type": "markdown",
   "id": "c3dba745",
   "metadata": {},
   "source": [
    "#### PLOT BETWEEN OFFICER WEARING A BODY CAMERA AND GENDER"
   ]
  },
  {
   "cell_type": "code",
   "execution_count": 27,
   "id": "fc86cd35",
   "metadata": {},
   "outputs": [
    {
     "data": {
      "image/png": "[encoded data removed]",
      "text/plain": [
       "<Figure size 432x288 with 1 Axes>"
      ]
     },
     "metadata": {
      "needs_background": "light"
     },
     "output_type": "display_data"
    }
   ],
   "source": [
    "df1.groupby('gender')['officer_camera'].mean().plot.barh().set_title(\"Body Camera\")\n",
    "plt.show()"
   ]
  },
  {
   "cell_type": "markdown",
   "id": "0625ea97",
   "metadata": {},
   "source": [
    "#### Here, If we observe carefully the percentage of police officers carrying body camera while shooting males is slightly higher than that of females. This means police officers are often carrying body cameras regardless of whom they are going to kill though we had some early doubts on why they are focusing more on men than women."
   ]
  },
  {
   "cell_type": "code",
   "execution_count": 75,
   "id": "2fa73214",
   "metadata": {},
   "outputs": [
    {
     "data": {
      "image/png": "[encoded data removed]",
      "text/plain": [
       "<Figure size 648x648 with 1 Axes>"
      ]
     },
     "metadata": {},
     "output_type": "display_data"
    }
   ],
   "source": [
    "label = np.unique(df.race)\n",
    "arr = []\n",
    "for i in label:\n",
    "    op = df[df.armed == 'unarmed']\n",
    "    op = op[op.race == i]\n",
    "    arr.append(op.shape[0])\n",
    "fig = plt.figure(figsize=(9 ,9))\n",
    "plt.pie(arr,labels = label,autopct = '%.2f %%')\n",
    "plt.title(\"Racial distribution of victims who were unarmed\" , fontdict={ 'fontweight' : 'bold', 'fontsize' : 18 })\n",
    "plt.show() "
   ]
  },
  {
   "cell_type": "markdown",
   "id": "02b86f6e",
   "metadata": {},
   "source": [
    "#### This chart reveals that more than 35% of the victims were black. This definitely shows hints of racism since the percentage of black people has increased even more in case of the victim being unarmed."
   ]
  },
  {
   "cell_type": "code",
   "execution_count": 35,
   "id": "c062e8f8",
   "metadata": {},
   "outputs": [
    {
     "data": {
      "image/png": "[encoded data removed]",
      "text/plain": [
       "<Figure size 576x576 with 1 Axes>"
      ]
     },
     "metadata": {},
     "output_type": "display_data"
    }
   ],
   "source": [
    "labels2 = np.unique(df.race)\n",
    "arr = []\n",
    "for i in labels2:\n",
    "    og = df[df.manner_of_death == 'shot and Tasered']\n",
    "    og = og[og.race == i]\n",
    "    arr.append(og.shape[0])  \n",
    "plt.figure(figsize = (8,8))\n",
    "plt.pie(arr,labels = labels2,autopct = '%.2f %%')\n",
    "plt.title(\"Racial distribution of victims who were Shot and Tasered\" , fontdict={ 'fontweight' : 'bold', 'fontsize' : 18 })\n",
    "plt.show()"
   ]
  },
  {
   "cell_type": "markdown",
   "id": "128637b8",
   "metadata": {},
   "source": [
    "#### Almost 28% of the shot and tasered victims are Black."
   ]
  },
  {
   "cell_type": "code",
   "execution_count": 36,
   "id": "1322e376",
   "metadata": {},
   "outputs": [
    {
     "data": {
      "image/png": "[encoded data removed]",
      "text/plain": [
       "<Figure size 576x576 with 1 Axes>"
      ]
     },
     "metadata": {},
     "output_type": "display_data"
    }
   ],
   "source": [
    "labels = np.unique(df.race)\n",
    "arr=[]\n",
    "for i in labels:\n",
    "    op = df.loc[(df['armed'] == 'unarmed') & (df['flee'] == 'Not fleeing')]\n",
    "    op = op[op.race == i]\n",
    "    arr.append(op.shape[0])\n",
    "plt.figure(figsize = (8,8))\n",
    "plt.pie(arr , labels =labels , autopct = '%.2f %%')\n",
    "plt.title(\"Racial distribution of victims who were unarmed and not fleeing\" , \n",
    "          fontdict={ 'fontweight' : 'bold', 'fontsize' : 18 })\n",
    "plt.show()"
   ]
  },
  {
   "cell_type": "markdown",
   "id": "08368377",
   "metadata": {},
   "source": [
    "#### This entire pie-chart represents cold-blooded murder(by the police) according to my opinion. The victim was unarmed and not even trying to run away. What possible explanation can the police provide for these shootings. How can someone feel safe in their own country if crimes like these keep happening. Also, a whopping 30% of the victims are from the black community which again shows racial bias."
   ]
  },
  {
   "cell_type": "code",
   "execution_count": null,
   "id": "1b47a90f",
   "metadata": {},
   "outputs": [],
   "source": []
  }
 ],
 "metadata": {
  "kernelspec": {
   "display_name": "Python 3 (ipykernel)",
   "language": "python",
   "name": "python3"
  },
  "language_info": {
   "codemirror_mode": {
    "name": "ipython",
    "version": 3
   },
   "file_extension": ".py",
   "mimetype": "text/x-python",
   "name": "python",
   "nbconvert_exporter": "python",
   "pygments_lexer": "ipython3",
   "version": "3.9.12"
  }
 },
 "nbformat": 4,
 "nbformat_minor": 5
}
